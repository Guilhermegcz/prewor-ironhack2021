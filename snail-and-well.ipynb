{
 "cells": [
  {
   "cell_type": "markdown",
   "metadata": {},
   "source": [
    "<img src=\"https://bit.ly/2VnXWr2\" width=\"100\" align=\"left\">"
   ]
  },
  {
   "cell_type": "markdown",
   "metadata": {},
   "source": [
    "# The Snail and the Well\n",
    "\n",
    "A snail falls at the bottom of a 125 cm well. Each day the snail rises 30 cm. But at night, while sleeping, slides 20 cm because the walls are wet. How many days does it take for the snail to escape the well?\n",
    "\n",
    "**Hint**: The snail gets out of the well when it surpasses the 125cm of height.\n",
    "\n",
    "## Tools\n",
    "\n",
    "1. Loop: **while**\n",
    "2. Conditional statements: **if-else**\n",
    "3. Function: **print()**\n",
    "\n",
    "## Tasks\n",
    "\n",
    "#### 1. Assign the challenge data to variables with representative names: `well_height`, `daily_distance`, `nightly_distance` and `snail_position`."
   ]
  },
  {
   "cell_type": "code",
   "execution_count": null,
   "metadata": {},
   "outputs": [],
   "source": [
    "#listas\n",
    "#while\n",
    "#if else"
   ]
  },
  {
   "cell_type": "code",
   "execution_count": 37,
   "metadata": {
    "ExecuteTime": {
     "end_time": "2021-07-02T21:58:23.773695Z",
     "start_time": "2021-07-02T21:58:23.758735Z"
    }
   },
   "outputs": [
    {
     "data": {
      "text/plain": [
       "5"
      ]
     },
     "execution_count": 37,
     "metadata": {},
     "output_type": "execute_result"
    }
   ],
   "source": [
    "listas = ['a','b','c','d','e']\n",
    "len(listas)"
   ]
  },
  {
   "cell_type": "code",
   "execution_count": 51,
   "metadata": {
    "ExecuteTime": {
     "end_time": "2021-07-02T22:01:49.684079Z",
     "start_time": "2021-07-02T22:01:49.664130Z"
    }
   },
   "outputs": [
    {
     "data": {
      "text/plain": [
       "['a', 'b', 'c', 'd', 'e']"
      ]
     },
     "execution_count": 51,
     "metadata": {},
     "output_type": "execute_result"
    }
   ],
   "source": [
    "listas"
   ]
  },
  {
   "cell_type": "code",
   "execution_count": 58,
   "metadata": {
    "ExecuteTime": {
     "end_time": "2021-07-02T22:04:34.774102Z",
     "start_time": "2021-07-02T22:04:34.764128Z"
    }
   },
   "outputs": [
    {
     "name": "stdout",
     "output_type": "stream",
     "text": [
      "a\n",
      "b\n",
      "c\n",
      "d\n",
      "e\n"
     ]
    }
   ],
   "source": [
    "for x in listas:\n",
    "    print(x)"
   ]
  },
  {
   "cell_type": "code",
   "execution_count": 66,
   "metadata": {
    "ExecuteTime": {
     "end_time": "2021-07-02T22:06:47.479668Z",
     "start_time": "2021-07-02T22:06:47.468699Z"
    }
   },
   "outputs": [
    {
     "data": {
      "text/plain": [
       "'a'"
      ]
     },
     "execution_count": 66,
     "metadata": {},
     "output_type": "execute_result"
    }
   ],
   "source": [
    "listas[0]"
   ]
  },
  {
   "cell_type": "code",
   "execution_count": 67,
   "metadata": {
    "ExecuteTime": {
     "end_time": "2021-07-02T22:06:51.851001Z",
     "start_time": "2021-07-02T22:06:51.839034Z"
    }
   },
   "outputs": [
    {
     "data": {
      "text/plain": [
       "'b'"
      ]
     },
     "execution_count": 67,
     "metadata": {},
     "output_type": "execute_result"
    }
   ],
   "source": [
    "listas[1]"
   ]
  },
  {
   "cell_type": "code",
   "execution_count": 68,
   "metadata": {
    "ExecuteTime": {
     "end_time": "2021-07-02T22:06:57.963655Z",
     "start_time": "2021-07-02T22:06:57.950689Z"
    }
   },
   "outputs": [
    {
     "name": "stdout",
     "output_type": "stream",
     "text": [
      "a\n",
      "b\n",
      "c\n",
      "d\n",
      "e\n"
     ]
    }
   ],
   "source": [
    "for x in range(len(listas)):\n",
    "    print(listas[x])"
   ]
  },
  {
   "cell_type": "code",
   "execution_count": 69,
   "metadata": {
    "ExecuteTime": {
     "end_time": "2021-07-02T22:07:14.525945Z",
     "start_time": "2021-07-02T22:07:14.511983Z"
    }
   },
   "outputs": [
    {
     "name": "stdout",
     "output_type": "stream",
     "text": [
      "a\n",
      "b\n",
      "c\n",
      "d\n",
      "e\n"
     ]
    }
   ],
   "source": [
    "for x in listas:\n",
    "    print(x)"
   ]
  },
  {
   "cell_type": "code",
   "execution_count": 29,
   "metadata": {
    "ExecuteTime": {
     "end_time": "2021-07-02T21:53:40.209954Z",
     "start_time": "2021-07-02T21:53:40.191004Z"
    }
   },
   "outputs": [
    {
     "data": {
      "text/plain": [
       "['a', 'b', 'c']"
      ]
     },
     "execution_count": 29,
     "metadata": {},
     "output_type": "execute_result"
    }
   ],
   "source": [
    "listas[:3]"
   ]
  },
  {
   "cell_type": "code",
   "execution_count": null,
   "metadata": {},
   "outputs": [],
   "source": [
    "listas = [['a','f','g'],'b','c',['a','f','g'],'e']"
   ]
  },
  {
   "cell_type": "code",
   "execution_count": 35,
   "metadata": {
    "ExecuteTime": {
     "end_time": "2021-07-02T21:57:45.948253Z",
     "start_time": "2021-07-02T21:57:45.933294Z"
    }
   },
   "outputs": [],
   "source": [
    "aninhado = [['A', 'homem'], ['a', 'plano'], ['a', 'canal'], ['Panamá', '!']]"
   ]
  },
  {
   "cell_type": "code",
   "execution_count": 48,
   "metadata": {
    "ExecuteTime": {
     "end_time": "2021-07-02T22:00:23.899101Z",
     "start_time": "2021-07-02T22:00:23.887131Z"
    }
   },
   "outputs": [
    {
     "data": {
      "text/plain": [
       "'A'"
      ]
     },
     "execution_count": 48,
     "metadata": {},
     "output_type": "execute_result"
    }
   ],
   "source": [
    "nova_lista = aninhado[0]\n",
    "nova_lista[0]"
   ]
  },
  {
   "cell_type": "code",
   "execution_count": 109,
   "metadata": {
    "ExecuteTime": {
     "end_time": "2021-07-02T22:23:53.651186Z",
     "start_time": "2021-07-02T22:23:53.630241Z"
    }
   },
   "outputs": [
    {
     "data": {
      "text/plain": [
       "'a'"
      ]
     },
     "execution_count": 109,
     "metadata": {},
     "output_type": "execute_result"
    }
   ],
   "source": [
    "#slicing\n",
    "aninhado[1][0]"
   ]
  },
  {
   "cell_type": "code",
   "execution_count": 121,
   "metadata": {
    "ExecuteTime": {
     "end_time": "2021-07-02T22:29:27.088684Z",
     "start_time": "2021-07-02T22:29:27.071727Z"
    }
   },
   "outputs": [],
   "source": [
    "#for"
   ]
  },
  {
   "cell_type": "code",
   "execution_count": 122,
   "metadata": {
    "ExecuteTime": {
     "end_time": "2021-07-02T22:29:27.339012Z",
     "start_time": "2021-07-02T22:29:27.324052Z"
    }
   },
   "outputs": [
    {
     "data": {
      "text/plain": [
       "['A', 'homem', 'a', 'plano', 'a', 'canal', 'Panamá', '!']"
      ]
     },
     "execution_count": 122,
     "metadata": {},
     "output_type": "execute_result"
    }
   ],
   "source": [
    "aninhado = [['A', 'homem'], ['a', 'plano'], ['a', 'canal'], ['Panamá', '!']]\n",
    "\n",
    "nova_lista = []\n",
    "for sub_lista in aninhado:\n",
    "    \n",
    "    for x in sub_lista:\n",
    "        \n",
    "        nova_lista.append(x)\n",
    "nova_lista"
   ]
  },
  {
   "cell_type": "code",
   "execution_count": 123,
   "metadata": {
    "ExecuteTime": {
     "end_time": "2021-07-02T22:29:29.449006Z",
     "start_time": "2021-07-02T22:29:29.438038Z"
    }
   },
   "outputs": [],
   "source": [
    "# while"
   ]
  },
  {
   "cell_type": "code",
   "execution_count": 124,
   "metadata": {
    "ExecuteTime": {
     "end_time": "2021-07-02T22:29:29.761154Z",
     "start_time": "2021-07-02T22:29:29.748169Z"
    }
   },
   "outputs": [
    {
     "name": "stdout",
     "output_type": "stream",
     "text": [
      "True\n",
      "1\n",
      "True\n",
      "2\n",
      "True\n",
      "3\n",
      "True\n",
      "4\n",
      "True\n",
      "5\n",
      "True\n",
      "6\n",
      "True\n",
      "7\n",
      "True\n",
      "8\n",
      "True\n",
      "9\n",
      "False\n",
      "10\n"
     ]
    }
   ],
   "source": [
    "x = 0\n",
    "\n",
    "while x < 10:   \n",
    "    x = x + 1\n",
    "    print(x < 10)\n",
    "    print(x)"
   ]
  },
  {
   "cell_type": "code",
   "execution_count": null,
   "metadata": {},
   "outputs": [],
   "source": [
    "#if else"
   ]
  },
  {
   "cell_type": "code",
   "execution_count": 131,
   "metadata": {
    "ExecuteTime": {
     "end_time": "2021-07-02T22:33:51.148958Z",
     "start_time": "2021-07-02T22:33:51.133000Z"
    }
   },
   "outputs": [],
   "source": [
    "x = 11\n",
    "if x < 10:\n",
    "    print('ele é menor que 10')\n",
    "elif x == 10:\n",
    "    print('ele é igual')\n",
    "else:\n",
    "    print('ele é maior que 10')\n",
    "    "
   ]
  },
  {
   "cell_type": "code",
   "execution_count": null,
   "metadata": {},
   "outputs": [],
   "source": []
  },
  {
   "cell_type": "code",
   "execution_count": null,
   "metadata": {},
   "outputs": [],
   "source": []
  },
  {
   "cell_type": "code",
   "execution_count": null,
   "metadata": {},
   "outputs": [],
   "source": []
  },
  {
   "cell_type": "code",
   "execution_count": null,
   "metadata": {},
   "outputs": [],
   "source": []
  },
  {
   "cell_type": "code",
   "execution_count": null,
   "metadata": {},
   "outputs": [],
   "source": []
  },
  {
   "cell_type": "code",
   "execution_count": null,
   "metadata": {},
   "outputs": [],
   "source": []
  },
  {
   "cell_type": "code",
   "execution_count": null,
   "metadata": {},
   "outputs": [],
   "source": []
  },
  {
   "cell_type": "code",
   "execution_count": null,
   "metadata": {},
   "outputs": [],
   "source": [
    "#enquanto ele nao atingir o topo\n",
    "#somar daily_distance no snail position \n",
    "#se ele nao sair do poço\n",
    "#subtrair o nightly_distance\n",
    "#acrescentar um dia na minha contagem"
   ]
  },
  {
   "cell_type": "code",
   "execution_count": 3,
   "metadata": {
    "ExecuteTime": {
     "end_time": "2021-07-01T22:17:27.731015Z",
     "start_time": "2021-07-01T22:17:27.713063Z"
    }
   },
   "outputs": [],
   "source": [
    "well_height = 125\n",
    "daily_distance = 30\n",
    "nightly_distance = 20\n",
    "snail_position = 0"
   ]
  },
  {
   "cell_type": "markdown",
   "metadata": {},
   "source": [
    "#### 2. Create a variable `days` to keep count of the days that pass until the snail escapes the well. "
   ]
  },
  {
   "cell_type": "code",
   "execution_count": 4,
   "metadata": {
    "ExecuteTime": {
     "end_time": "2021-07-01T22:17:28.486993Z",
     "start_time": "2021-07-01T22:17:28.480012Z"
    }
   },
   "outputs": [],
   "source": [
    "days = 0"
   ]
  },
  {
   "cell_type": "markdown",
   "metadata": {},
   "source": [
    "#### 3. Find the solution to the challenge using the variables defined above. "
   ]
  },
  {
   "cell_type": "code",
   "execution_count": null,
   "metadata": {},
   "outputs": [],
   "source": [
    "#fixas\n",
    "well_height = 125\n",
    "daily_distance = 30\n",
    "nightly_distance = 20\n",
    "#somar elas\n",
    "snail_position = 0\n",
    "days = 0\n",
    "\n",
    "#enquanto ele nao atingir o topo\n",
    "#somar daily_distance no snail position\n"
   ]
  },
  {
   "cell_type": "code",
   "execution_count": 143,
   "metadata": {
    "ExecuteTime": {
     "end_time": "2021-07-02T22:45:09.307267Z",
     "start_time": "2021-07-02T22:45:09.293304Z"
    }
   },
   "outputs": [
    {
     "name": "stdout",
     "output_type": "stream",
     "text": [
      "10\n",
      "20\n",
      "30\n",
      "40\n",
      "50\n",
      "60\n",
      "70\n",
      "80\n",
      "90\n",
      "100\n",
      "130\n",
      "total de 11 dias\n"
     ]
    }
   ],
   "source": [
    "#fixas\n",
    "well_height = 125\n",
    "daily_distance = 30\n",
    "nightly_distance = 20\n",
    "#somar elas\n",
    "snail_position = 0\n",
    "days = 0\n",
    "while well_height > snail_position:\n",
    "    snail_position = snail_position + daily_distance\n",
    "    if well_height > snail_position:\n",
    "        snail_position = snail_position - nightly_distance\n",
    "    days = days + 1\n",
    "    \n",
    "    print(snail_position)\n",
    "print(f'total de {days} dias')"
   ]
  },
  {
   "cell_type": "code",
   "execution_count": null,
   "metadata": {},
   "outputs": [],
   "source": []
  },
  {
   "cell_type": "code",
   "execution_count": null,
   "metadata": {},
   "outputs": [],
   "source": []
  },
  {
   "cell_type": "code",
   "execution_count": null,
   "metadata": {},
   "outputs": [],
   "source": []
  },
  {
   "cell_type": "code",
   "execution_count": null,
   "metadata": {},
   "outputs": [],
   "source": []
  },
  {
   "cell_type": "code",
   "execution_count": null,
   "metadata": {},
   "outputs": [],
   "source": []
  },
  {
   "cell_type": "code",
   "execution_count": null,
   "metadata": {},
   "outputs": [],
   "source": []
  },
  {
   "cell_type": "code",
   "execution_count": 89,
   "metadata": {
    "ExecuteTime": {
     "end_time": "2021-07-02T00:50:43.385317Z",
     "start_time": "2021-07-02T00:50:43.365354Z"
    }
   },
   "outputs": [
    {
     "name": "stdout",
     "output_type": "stream",
     "text": [
      "dia: 0\n",
      "posicao 0\n",
      "-----\n",
      "dia: 1\n",
      "posicao 10\n",
      "-----\n",
      "dia: 2\n",
      "posicao 20\n",
      "-----\n",
      "dia: 3\n",
      "posicao 30\n",
      "-----\n",
      "dia: 4\n",
      "posicao 40\n",
      "-----\n",
      "dia: 5\n",
      "posicao 50\n",
      "-----\n",
      "dia: 6\n",
      "posicao 60\n",
      "-----\n",
      "dia: 7\n",
      "posicao 70\n",
      "-----\n",
      "dia: 8\n",
      "posicao 80\n",
      "-----\n",
      "dia: 9\n",
      "posicao 90\n",
      "-----\n",
      "dia: 10\n",
      "posicao 100\n",
      "-----\n",
      "11\n",
      "posicao 130\n"
     ]
    }
   ],
   "source": [
    "#fixas\n",
    "well_height = 125\n",
    "daily_distance = 30\n",
    "nightly_distance = 20\n",
    "#somar elas\n",
    "snail_position = 0\n",
    "days = 0\n",
    "\n",
    "\n",
    "#enquanto ele nao atingir o topo\n",
    "#somar daily_distance no snail position \n",
    "#se ele nao sair do poço\n",
    "#subtrair o nightly_distance\n",
    "#acrescentar um dia na minha contagem\n",
    "\n",
    "#enquanto ele nao atingir o topo\n",
    "while snail_position < well_height:\n",
    "    print('dia:', days)\n",
    "    print('posicao', snail_position)\n",
    "    \n",
    "    #somar daily_distance no snail position\n",
    "    snail_position = snail_position + daily_distance\n",
    "    \n",
    "    #se ele nao sair do poço\n",
    "    if snail_position < well_height:\n",
    "        #subtrair o nightly_distance\n",
    "        snail_position = snail_position - nightly_distance\n",
    "    #acrescentar um dia na minha contagem\n",
    "    days = days + 1\n",
    "    \n",
    "    print('-----')\n",
    "print(days)\n",
    "print('posicao', snail_position)\n"
   ]
  },
  {
   "cell_type": "code",
   "execution_count": 28,
   "metadata": {
    "ExecuteTime": {
     "end_time": "2021-07-02T00:23:35.558287Z",
     "start_time": "2021-07-02T00:23:35.538344Z"
    }
   },
   "outputs": [
    {
     "name": "stdout",
     "output_type": "stream",
     "text": [
      "Snail position: 125, day:11\n"
     ]
    }
   ],
   "source": [
    "days = 0\n",
    "snail_position = 0\n",
    "while snail_position <= well_height:\n",
    "    snail_position += daily_distance\n",
    "    if snail_position <= well_height:\n",
    "        snail_position -= nightly_distance\n",
    "    days += 1\n",
    "    \n",
    "print(f'Snail position: {well_height}, day:{days}')"
   ]
  },
  {
   "cell_type": "markdown",
   "metadata": {},
   "source": [
    "#### 4. Print the solution."
   ]
  },
  {
   "cell_type": "code",
   "execution_count": 7,
   "metadata": {
    "ExecuteTime": {
     "end_time": "2021-07-01T22:18:01.679252Z",
     "start_time": "2021-07-01T22:18:01.666285Z"
    }
   },
   "outputs": [
    {
     "name": "stdout",
     "output_type": "stream",
     "text": [
      "Snail position: 125, day:11\n",
      "Snail position: 125, day:11\n",
      "Snail position: 125  day: 11\n"
     ]
    }
   ],
   "source": [
    "print(f'Snail position: {well_height}, day:{days}')\n",
    "\n",
    "print('Snail position: {}, day:{}'.format(well_height , days))\n",
    "\n",
    "print('Snail position:',well_height,' day:',days)"
   ]
  },
  {
   "cell_type": "markdown",
   "metadata": {},
   "source": [
    "## Bonus\n",
    "The distance traveled by the snail each day is now defined by a list.\n",
    "```\n",
    "advance_cm = [30, 21, 33, 77, 44, 45, 23, 45, 12, 34, 55]\n",
    "```\n",
    "On the first day, the snail rises 30cm but during the night it slides 20cm. On the second day, the snail rises 21cm but during the night it slides 20cm, and so on. \n",
    "\n",
    "#### 1. How many days does it take for the snail to escape the well?\n",
    "Follow the same guidelines as in the previous challenge.\n",
    "\n",
    "**Hint**: Remember that the snail gets out of the well when it surpasses the 125cm of height."
   ]
  },
  {
   "cell_type": "code",
   "execution_count": 18,
   "metadata": {
    "ExecuteTime": {
     "end_time": "2021-07-01T22:21:58.143044Z",
     "start_time": "2021-07-01T22:21:58.122099Z"
    }
   },
   "outputs": [
    {
     "name": "stdout",
     "output_type": "stream",
     "text": [
      "Snail position: 125, day:6\n"
     ]
    }
   ],
   "source": [
    "#resolucao com for\n",
    "well_height = 125\n",
    "advance_cm = [30, 21, 33, 77, 44, 45, 23, 45, 12, 34, 55]\n",
    "nightly_distance = 20\n",
    "snail_position = 0\n",
    "days = 0\n",
    "\n",
    "for advance in advance_cm: \n",
    "    days += 1\n",
    "    snail_position += advance\n",
    "    if snail_position <= well_height:\n",
    "        snail_position -= nightly_distance\n",
    "    else:\n",
    "        break\n",
    "\n",
    "\n",
    "print(f'Snail position: {well_height}, day:{days}')"
   ]
  },
  {
   "cell_type": "code",
   "execution_count": 20,
   "metadata": {
    "ExecuteTime": {
     "end_time": "2021-07-01T22:22:13.661553Z",
     "start_time": "2021-07-01T22:22:13.649585Z"
    }
   },
   "outputs": [
    {
     "name": "stdout",
     "output_type": "stream",
     "text": [
      "A posição final é : 125 em 6 dias\n"
     ]
    }
   ],
   "source": [
    "#resolucao com while\n",
    "well_height = 125\n",
    "advance_cm = [30, 21, 33, 77, 44, 45, 23, 45, 12, 34, 55]\n",
    "nightly_distance = 20\n",
    "snail_position = 0\n",
    "days = 0\n",
    "\n",
    "while snail_position <= well_height:\n",
    "    snail_position += advance_cm[days]\n",
    "    if snail_position <= well_height:\n",
    "        snail_position -= nightly_distance\n",
    "    days += 1\n",
    "print(f'A posição final é : {well_height} em {days} dias')\n",
    "    "
   ]
  },
  {
   "cell_type": "markdown",
   "metadata": {},
   "source": [
    "#### 2. What is its maximum displacement in one day? And its minimum? Calculate the displacement using only the travel distance of the days used to get out of the well. \n",
    "**Hint**: Remember that displacement means the total distance risen taking into account that the snail slides at night.  "
   ]
  },
  {
   "cell_type": "code",
   "execution_count": 27,
   "metadata": {
    "ExecuteTime": {
     "end_time": "2021-07-01T22:27:52.410876Z",
     "start_time": "2021-07-01T22:27:52.384946Z"
    }
   },
   "outputs": [
    {
     "name": "stdout",
     "output_type": "stream",
     "text": [
      "30\n",
      "31\n",
      "44\n",
      "101\n",
      "125\n",
      "150\n",
      "6\n"
     ]
    },
    {
     "data": {
      "text/plain": [
       "[50, 41, 53, 97, 64, -25]"
      ]
     },
     "execution_count": 27,
     "metadata": {},
     "output_type": "execute_result"
    }
   ],
   "source": [
    "well_height = 125\n",
    "advance_cm = [30, 21, 33, 77, 44, 45, 23, 45, 12, 34, 55]\n",
    "nightly_distance = 20\n",
    "snail_position = 0\n",
    "days = 0\n",
    "\n",
    "displacement_num = []\n",
    "\n",
    "\n",
    "while snail_position <= well_height:\n",
    "    \n",
    "    \n",
    "    snail_position += advance_cm[days]\n",
    "    print(snail_position)\n",
    "    \n",
    "    \n",
    "    if snail_position <= well_height:\n",
    "        snail_position -= nightly_distance\n",
    "        displacement = advance_cm[days] + nightly_distance\n",
    "    else:\n",
    "        displacement = well_height - snail_position \n",
    "\n",
    "\n",
    "    days += 1\n",
    "\n",
    "print(days)        \n",
    "displacement_num"
   ]
  },
  {
   "cell_type": "code",
   "execution_count": 38,
   "metadata": {},
   "outputs": [
    {
     "name": "stdout",
     "output_type": "stream",
     "text": [
      "The max displacement is 57\n",
      "The min displacement is 1\n"
     ]
    }
   ],
   "source": [
    "print('The max displacement is {}'.format(max(displacement_num)))\n",
    "print('The min displacement is {}'.format(min(displacement_num)))"
   ]
  },
  {
   "cell_type": "markdown",
   "metadata": {},
   "source": [
    "#### 3. What is its average progress? Take into account the snail slides at night."
   ]
  },
  {
   "cell_type": "code",
   "execution_count": 39,
   "metadata": {
    "scrolled": false
   },
   "outputs": [
    {
     "data": {
      "text/plain": [
       "21.666666666666668"
      ]
     },
     "execution_count": 39,
     "metadata": {},
     "output_type": "execute_result"
    }
   ],
   "source": [
    "from statistics import mean\n",
    "mean(displacement_num)"
   ]
  },
  {
   "cell_type": "code",
   "execution_count": 44,
   "metadata": {},
   "outputs": [
    {
     "data": {
      "text/plain": [
       "25.0"
      ]
     },
     "execution_count": 44,
     "metadata": {},
     "output_type": "execute_result"
    }
   ],
   "source": [
    "average_progress = snail_position / days\n",
    "average_progress"
   ]
  },
  {
   "cell_type": "code",
   "execution_count": 41,
   "metadata": {},
   "outputs": [
    {
     "data": {
      "text/plain": [
       "130"
      ]
     },
     "execution_count": 41,
     "metadata": {},
     "output_type": "execute_result"
    }
   ],
   "source": [
    "sum(displacement_num)"
   ]
  },
  {
   "cell_type": "markdown",
   "metadata": {},
   "source": [
    "#### 4. What is the standard deviation of its displacement? Take into account the snail slides at night."
   ]
  },
  {
   "cell_type": "code",
   "execution_count": 49,
   "metadata": {},
   "outputs": [],
   "source": [
    "from statistics import stdev"
   ]
  },
  {
   "cell_type": "code",
   "execution_count": 50,
   "metadata": {},
   "outputs": [
    {
     "data": {
      "text/plain": [
       "19.510680835549195"
      ]
     },
     "execution_count": 50,
     "metadata": {},
     "output_type": "execute_result"
    }
   ],
   "source": [
    "stdev(displacement_num)"
   ]
  },
  {
   "cell_type": "code",
   "execution_count": null,
   "metadata": {},
   "outputs": [],
   "source": [
    "media 25\n",
    "desvio 19,87"
   ]
  }
 ],
 "metadata": {
  "kernelspec": {
   "display_name": "Python 3",
   "language": "python",
   "name": "python3"
  },
  "language_info": {
   "codemirror_mode": {
    "name": "ipython",
    "version": 3
   },
   "file_extension": ".py",
   "mimetype": "text/x-python",
   "name": "python",
   "nbconvert_exporter": "python",
   "pygments_lexer": "ipython3",
   "version": "3.8.3"
  },
  "toc": {
   "base_numbering": 1,
   "nav_menu": {},
   "number_sections": true,
   "sideBar": true,
   "skip_h1_title": false,
   "title_cell": "Table of Contents",
   "title_sidebar": "Contents",
   "toc_cell": false,
   "toc_position": {},
   "toc_section_display": true,
   "toc_window_display": false
  }
 },
 "nbformat": 4,
 "nbformat_minor": 2
}
